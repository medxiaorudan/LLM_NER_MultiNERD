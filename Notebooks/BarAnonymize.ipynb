{
 "cells": [
  {
   "cell_type": "markdown",
   "id": "f7255104",
   "metadata": {},
   "source": [
    "# Description: This code utilizes a fine-tuned BERT model for anonymization.\n",
    "\n",
    "## Load fine-tuned model from Hugging Face directly"
   ]
  },
  {
   "cell_type": "code",
   "execution_count": 74,
   "id": "b53ff28c",
   "metadata": {},
   "outputs": [],
   "source": [
    "from transformers import AutoTokenizer, AutoModelForTokenClassification\n",
    "import pandas as pd\n",
    "from IPython.core.display import display, HTML\n",
    "\n",
    "tokenizer = AutoTokenizer.from_pretrained(\"medxiaorudan/bert-base-cased-finetuned-MultiNERD-SystemB\")\n",
    "model = AutoModelForTokenClassification.from_pretrained(\"medxiaorudan/bert-base-cased-finetuned-MultiNERD-SystemB\")"
   ]
  },
  {
   "cell_type": "code",
   "execution_count": 81,
   "id": "b8106057",
   "metadata": {},
   "outputs": [],
   "source": [
    "def word_start_tokens(tokenized):\n",
    "    \"\"\"Return list of bool identifying which tokens start words.\"\"\"\n",
    "    prev_word_idx = None\n",
    "    is_word_start = []\n",
    "    for word_idx in tokenized.word_ids():\n",
    "        if word_idx is None or word_idx == prev_word_idx:\n",
    "            is_word_start.append(False)\n",
    "        else:\n",
    "            is_word_start.append(True)\n",
    "        prev_word_idx = word_idx\n",
    "    return is_word_start\n",
    "\n",
    "\n",
    "def predict_ner(words):\n",
    "    tokenized = tokenizer(words, is_split_into_words=True, return_tensors='pt')\n",
    "    pred = model(**tokenized)\n",
    "    pred_idx = pred.logits.detach().numpy().argmax(axis=2)\n",
    "    token_labels = [label_list[i] for s in pred_idx for i in s]\n",
    "    word_labels = []\n",
    "    for label, is_word_start in zip(token_labels, word_start_tokens(tokenized)):\n",
    "        if is_word_start:\n",
    "            word_labels.append(label)\n",
    "    return word_labels\n",
    "\n",
    "label_list = [\"O\",\"B-PER\", \"I-PER\", \"B-ORG\", \"I-ORG\", \"B-LOC\", \"I-LOC\", \"B-ANIM\", \"I-ANIM\", \"B-DIS\", \"I-DIS\"]\n",
    "\n",
    "# Define the example sentences to be anonymized\n",
    "example_sentences = [\n",
    "    'Emma Watson, a famous actress, starred in the Harry Potter movies.',\n",
    "    'NASA, the United States space agency, is responsible for the Apollo moon missions.',\n",
    "    'The Sahara Desert is the largest hot desert in the world, covering much of North Africa.',\n",
    "    'Cancer is a serious disease that affects millions of people worldwide.',\n",
    "    'The African elephant is the largest land animal on Earth.',\n",
    "    'Stephen Hawking was a brilliant physicist known for his work on black holes.',\n",
    "    'The Vatican City is the smallest independent state in the world, located within Rome.',\n",
    "    'Lionel Messi, one of the greatest football players, currently plays for Paris Saint-Germain.',\n",
    "    'The Pacific Ocean is the largest and deepest ocean on Earth.',\n",
    "]\n"
   ]
  },
  {
   "cell_type": "code",
   "execution_count": 78,
   "id": "05dee780",
   "metadata": {},
   "outputs": [
    {
     "name": "stdout",
     "output_type": "stream",
     "text": [
      "                                               words  \\\n",
      "0  [Emma, Watson,, a, famous, actress,, starred, ...   \n",
      "1  [NASA,, the, United, States, space, agency,, i...   \n",
      "2  [The, Sahara, Desert, is, the, largest, hot, d...   \n",
      "3  [Cancer, is, a, serious, disease, that, affect...   \n",
      "4  [The, African, elephant, is, the, largest, lan...   \n",
      "5  [Stephen, Hawking, was, a, brilliant, physicis...   \n",
      "6  [The, Vatican, City, is, the, smallest, indepe...   \n",
      "7  [Lionel, Messi,, one, of, the, greatest, footb...   \n",
      "8  [The, Pacific, Ocean, is, the, largest, and, d...   \n",
      "\n",
      "                                            ner_tags  \\\n",
      "0      [B-PER, I-PER, O, O, O, O, O, O, B-PER, O, O]   \n",
      "1  [B-ORG, O, B-LOC, I-LOC, O, O, O, O, O, O, O, ...   \n",
      "2  [O, B-LOC, I-LOC, O, O, O, O, O, O, O, O, O, O...   \n",
      "3              [B-DIS, O, O, O, O, O, O, O, O, O, O]   \n",
      "4           [O, B-ANIM, I-ANIM, O, O, O, O, O, O, O]   \n",
      "5    [B-PER, I-PER, O, O, O, O, O, O, O, O, O, O, O]   \n",
      "6  [O, B-LOC, I-LOC, O, O, O, O, O, O, O, O, O, O...   \n",
      "7  [B-PER, I-PER, O, O, O, O, O, O, O, O, O, B-OR...   \n",
      "8          [O, B-LOC, I-LOC, O, O, O, O, O, O, O, O]   \n",
      "\n",
      "                                      blackout_label  \n",
      "0  [True, True, False, False, False, False, False...  \n",
      "1  [True, False, False, False, False, False, Fals...  \n",
      "2  [False, False, False, False, False, False, Fal...  \n",
      "3  [False, False, False, False, False, False, Fal...  \n",
      "4  [False, False, False, False, False, False, Fal...  \n",
      "5  [True, True, False, False, False, False, False...  \n",
      "6  [False, False, False, False, False, False, Fal...  \n",
      "7  [True, True, False, False, False, False, False...  \n",
      "8  [False, False, False, False, False, False, Fal...  \n"
     ]
    }
   ],
   "source": [
    "# Define the blackout labels which we want to anonymize\n",
    "blackout_labels=['B-PER', 'I-PER', 'B-ORG', 'I-ORG']\n",
    "\n",
    "# Create an empty list to store data\n",
    "data = []\n",
    "\n",
    "# Iterate through example sentences\n",
    "for e in example_sentences:\n",
    "    words = e.split()\n",
    "    ner_tags = predict_ner(words)\n",
    "    \n",
    "    # Create a boolean list for blackout labels\n",
    "    blackout_label = [tag in blackout_labels for tag in ner_tags]\n",
    "    \n",
    "    # Add data to the list\n",
    "    data.append({\"words\": words, \"ner_tags\": ner_tags, \"blackout_label\": blackout_label})\n",
    "\n",
    "# Create DataFrame using the list\n",
    "df = pd.DataFrame(data)\n",
    "\n",
    "# Display the DataFrame with blackout_label\n",
    "print(df)\n"
   ]
  },
  {
   "cell_type": "code",
   "execution_count": 79,
   "id": "4040045e",
   "metadata": {},
   "outputs": [
    {
     "data": {
      "text/html": [
       "<p>Original: Emma Watson, a famous actress, starred in the Harry Potter movies.</p><p>Anonymized: █ █ a famous actress, starred in the █ Potter movies.</p>"
      ],
      "text/plain": [
       "<IPython.core.display.HTML object>"
      ]
     },
     "metadata": {},
     "output_type": "display_data"
    },
    {
     "data": {
      "text/html": [
       "<p>Original: NASA, the United States space agency, is responsible for the Apollo moon missions.</p><p>Anonymized: █ the United States space agency, is responsible for the Apollo moon missions.</p>"
      ],
      "text/plain": [
       "<IPython.core.display.HTML object>"
      ]
     },
     "metadata": {},
     "output_type": "display_data"
    },
    {
     "data": {
      "text/html": [
       "<p>Original: The Sahara Desert is the largest hot desert in the world, covering much of North Africa.</p><p>Anonymized: The Sahara Desert is the largest hot desert in the world, covering much of North Africa.</p>"
      ],
      "text/plain": [
       "<IPython.core.display.HTML object>"
      ]
     },
     "metadata": {},
     "output_type": "display_data"
    },
    {
     "data": {
      "text/html": [
       "<p>Original: Cancer is a serious disease that affects millions of people worldwide.</p><p>Anonymized: Cancer is a serious disease that affects millions of people worldwide.</p>"
      ],
      "text/plain": [
       "<IPython.core.display.HTML object>"
      ]
     },
     "metadata": {},
     "output_type": "display_data"
    },
    {
     "data": {
      "text/html": [
       "<p>Original: The African elephant is the largest land animal on Earth.</p><p>Anonymized: The African elephant is the largest land animal on Earth.</p>"
      ],
      "text/plain": [
       "<IPython.core.display.HTML object>"
      ]
     },
     "metadata": {},
     "output_type": "display_data"
    },
    {
     "data": {
      "text/html": [
       "<p>Original: Stephen Hawking was a brilliant physicist known for his work on black holes.</p><p>Anonymized: █ █ was a brilliant physicist known for his work on black holes.</p>"
      ],
      "text/plain": [
       "<IPython.core.display.HTML object>"
      ]
     },
     "metadata": {},
     "output_type": "display_data"
    },
    {
     "data": {
      "text/html": [
       "<p>Original: The Vatican City is the smallest independent state in the world, located within Rome.</p><p>Anonymized: The Vatican City is the smallest independent state in the world, located within Rome.</p>"
      ],
      "text/plain": [
       "<IPython.core.display.HTML object>"
      ]
     },
     "metadata": {},
     "output_type": "display_data"
    },
    {
     "data": {
      "text/html": [
       "<p>Original: Lionel Messi, one of the greatest football players, currently plays for Paris Saint-Germain.</p><p>Anonymized: █ █ one of the greatest football players, currently plays for █ █</p>"
      ],
      "text/plain": [
       "<IPython.core.display.HTML object>"
      ]
     },
     "metadata": {},
     "output_type": "display_data"
    },
    {
     "data": {
      "text/html": [
       "<p>Original: The Pacific Ocean is the largest and deepest ocean on Earth.</p><p>Anonymized: The Pacific Ocean is the largest and deepest ocean on Earth.</p>"
      ],
      "text/plain": [
       "<IPython.core.display.HTML object>"
      ]
     },
     "metadata": {},
     "output_type": "display_data"
    }
   ],
   "source": [
    "black_char = chr(9608)\n",
    "\n",
    "# Create an empty list to store data\n",
    "data = []\n",
    "\n",
    "# Iterate through example sentences\n",
    "for e in example_sentences:\n",
    "    words = e.split()\n",
    "    ner_tags = predict_ner(words)\n",
    "    \n",
    "    # Create a boolean list for blackout labels\n",
    "    blackout_label = [tag in blackout_labels for tag in ner_tags]\n",
    "    \n",
    "    # Anonymize using black_char\n",
    "    anonymized_words = [black_char if label else word for word, label in zip(words, blackout_label)]\n",
    "    \n",
    "    # Add data to the list\n",
    "    data.append({\"words\": words, \"anonymized_words\": anonymized_words, \"ner_tags\": ner_tags, \"blackout_label\": blackout_label})\n",
    "\n",
    "# Create DataFrame from the list\n",
    "df = pd.DataFrame(data)\n",
    "\n",
    "# Display the original and anonymized text comparison\n",
    "for i, row in df.iterrows():\n",
    "    words = row[\"words\"]\n",
    "    anonymized_words = row[\"anonymized_words\"]\n",
    "    \n",
    "    # Display the comparison of original and anonymized text\n",
    "    display(HTML(f'<p>Original: {\" \".join(words)}</p><p>Anonymized: {\" \".join(anonymized_words)}</p>'))\n"
   ]
  },
  {
   "cell_type": "markdown",
   "id": "5a90c6d5",
   "metadata": {},
   "source": [
    "# Visualization\n",
    "\n",
    "The IOB notation can be a bit tricky to interpret. To get a better intuitive understanding of tagging results, let's implement a visualization using the[`displacy`](https://explosion.ai/demos/displacy-ent) library.\n"
   ]
  },
  {
   "cell_type": "code",
   "execution_count": 80,
   "id": "c96d5420",
   "metadata": {},
   "outputs": [
    {
     "data": {
      "text/html": [
       "<span class=\"tex2jax_ignore\"><div class=\"entities\" style=\"line-height: 2.5; direction: ltr\">\n",
       "<mark class=\"entity\" style=\"background: #ddd; padding: 0.45em 0.6em; margin: 0 0.25em; line-height: 1; border-radius: 0.35em;\">\n",
       "    Emma Watson, \n",
       "    <span style=\"font-size: 0.8em; font-weight: bold; line-height: 1; border-radius: 0.35em; vertical-align: middle; margin-left: 0.5rem\">PER</span>\n",
       "</mark>\n",
       "a famous actress, starred in the \n",
       "<mark class=\"entity\" style=\"background: #ddd; padding: 0.45em 0.6em; margin: 0 0.25em; line-height: 1; border-radius: 0.35em;\">\n",
       "    Harry \n",
       "    <span style=\"font-size: 0.8em; font-weight: bold; line-height: 1; border-radius: 0.35em; vertical-align: middle; margin-left: 0.5rem\">PER</span>\n",
       "</mark>\n",
       "Potter movies.</div></span>"
      ],
      "text/plain": [
       "<IPython.core.display.HTML object>"
      ]
     },
     "metadata": {},
     "output_type": "display_data"
    },
    {
     "data": {
      "text/html": [
       "<span class=\"tex2jax_ignore\"><div class=\"entities\" style=\"line-height: 2.5; direction: ltr\">\n",
       "<mark class=\"entity\" style=\"background: #ddd; padding: 0.45em 0.6em; margin: 0 0.25em; line-height: 1; border-radius: 0.35em;\">\n",
       "    █ █ \n",
       "    <span style=\"font-size: 0.8em; font-weight: bold; line-height: 1; border-radius: 0.35em; vertical-align: middle; margin-left: 0.5rem\">PER</span>\n",
       "</mark>\n",
       "a famous actress, starred in the \n",
       "<mark class=\"entity\" style=\"background: #ddd; padding: 0.45em 0.6em; margin: 0 0.25em; line-height: 1; border-radius: 0.35em;\">\n",
       "    █ \n",
       "    <span style=\"font-size: 0.8em; font-weight: bold; line-height: 1; border-radius: 0.35em; vertical-align: middle; margin-left: 0.5rem\">PER</span>\n",
       "</mark>\n",
       "Potter movies.</div></span>"
      ],
      "text/plain": [
       "<IPython.core.display.HTML object>"
      ]
     },
     "metadata": {},
     "output_type": "display_data"
    },
    {
     "data": {
      "text/html": [
       "<span class=\"tex2jax_ignore\"><div class=\"entities\" style=\"line-height: 2.5; direction: ltr\">\n",
       "<mark class=\"entity\" style=\"background: #7aecec; padding: 0.45em 0.6em; margin: 0 0.25em; line-height: 1; border-radius: 0.35em;\">\n",
       "    NASA, \n",
       "    <span style=\"font-size: 0.8em; font-weight: bold; line-height: 1; border-radius: 0.35em; vertical-align: middle; margin-left: 0.5rem\">ORG</span>\n",
       "</mark>\n",
       "the \n",
       "<mark class=\"entity\" style=\"background: #ff9561; padding: 0.45em 0.6em; margin: 0 0.25em; line-height: 1; border-radius: 0.35em;\">\n",
       "    United States \n",
       "    <span style=\"font-size: 0.8em; font-weight: bold; line-height: 1; border-radius: 0.35em; vertical-align: middle; margin-left: 0.5rem\">LOC</span>\n",
       "</mark>\n",
       "space agency, is responsible for the Apollo moon missions.</div></span>"
      ],
      "text/plain": [
       "<IPython.core.display.HTML object>"
      ]
     },
     "metadata": {},
     "output_type": "display_data"
    },
    {
     "data": {
      "text/html": [
       "<span class=\"tex2jax_ignore\"><div class=\"entities\" style=\"line-height: 2.5; direction: ltr\">\n",
       "<mark class=\"entity\" style=\"background: #7aecec; padding: 0.45em 0.6em; margin: 0 0.25em; line-height: 1; border-radius: 0.35em;\">\n",
       "    █ \n",
       "    <span style=\"font-size: 0.8em; font-weight: bold; line-height: 1; border-radius: 0.35em; vertical-align: middle; margin-left: 0.5rem\">ORG</span>\n",
       "</mark>\n",
       "the \n",
       "<mark class=\"entity\" style=\"background: #ff9561; padding: 0.45em 0.6em; margin: 0 0.25em; line-height: 1; border-radius: 0.35em;\">\n",
       "    United States \n",
       "    <span style=\"font-size: 0.8em; font-weight: bold; line-height: 1; border-radius: 0.35em; vertical-align: middle; margin-left: 0.5rem\">LOC</span>\n",
       "</mark>\n",
       "space agency, is responsible for the Apollo moon missions.</div></span>"
      ],
      "text/plain": [
       "<IPython.core.display.HTML object>"
      ]
     },
     "metadata": {},
     "output_type": "display_data"
    },
    {
     "data": {
      "text/html": [
       "<span class=\"tex2jax_ignore\"><div class=\"entities\" style=\"line-height: 2.5; direction: ltr\">The \n",
       "<mark class=\"entity\" style=\"background: #ff9561; padding: 0.45em 0.6em; margin: 0 0.25em; line-height: 1; border-radius: 0.35em;\">\n",
       "    Sahara Desert \n",
       "    <span style=\"font-size: 0.8em; font-weight: bold; line-height: 1; border-radius: 0.35em; vertical-align: middle; margin-left: 0.5rem\">LOC</span>\n",
       "</mark>\n",
       "is the largest hot desert in the world, covering much of \n",
       "<mark class=\"entity\" style=\"background: #ff9561; padding: 0.45em 0.6em; margin: 0 0.25em; line-height: 1; border-radius: 0.35em;\">\n",
       "    North Africa.\n",
       "    <span style=\"font-size: 0.8em; font-weight: bold; line-height: 1; border-radius: 0.35em; vertical-align: middle; margin-left: 0.5rem\">LOC</span>\n",
       "</mark>\n",
       "</div></span>"
      ],
      "text/plain": [
       "<IPython.core.display.HTML object>"
      ]
     },
     "metadata": {},
     "output_type": "display_data"
    },
    {
     "data": {
      "text/html": [
       "<span class=\"tex2jax_ignore\"><div class=\"entities\" style=\"line-height: 2.5; direction: ltr\">The \n",
       "<mark class=\"entity\" style=\"background: #ff9561; padding: 0.45em 0.6em; margin: 0 0.25em; line-height: 1; border-radius: 0.35em;\">\n",
       "    Sahara Desert \n",
       "    <span style=\"font-size: 0.8em; font-weight: bold; line-height: 1; border-radius: 0.35em; vertical-align: middle; margin-left: 0.5rem\">LOC</span>\n",
       "</mark>\n",
       "is the largest hot desert in the world, covering much of \n",
       "<mark class=\"entity\" style=\"background: #ff9561; padding: 0.45em 0.6em; margin: 0 0.25em; line-height: 1; border-radius: 0.35em;\">\n",
       "    North Africa.\n",
       "    <span style=\"font-size: 0.8em; font-weight: bold; line-height: 1; border-radius: 0.35em; vertical-align: middle; margin-left: 0.5rem\">LOC</span>\n",
       "</mark>\n",
       "</div></span>"
      ],
      "text/plain": [
       "<IPython.core.display.HTML object>"
      ]
     },
     "metadata": {},
     "output_type": "display_data"
    },
    {
     "data": {
      "text/html": [
       "<span class=\"tex2jax_ignore\"><div class=\"entities\" style=\"line-height: 2.5; direction: ltr\">\n",
       "<mark class=\"entity\" style=\"background: #ddd; padding: 0.45em 0.6em; margin: 0 0.25em; line-height: 1; border-radius: 0.35em;\">\n",
       "    Cancer \n",
       "    <span style=\"font-size: 0.8em; font-weight: bold; line-height: 1; border-radius: 0.35em; vertical-align: middle; margin-left: 0.5rem\">DIS</span>\n",
       "</mark>\n",
       "is a serious disease that affects millions of people worldwide.</div></span>"
      ],
      "text/plain": [
       "<IPython.core.display.HTML object>"
      ]
     },
     "metadata": {},
     "output_type": "display_data"
    },
    {
     "data": {
      "text/html": [
       "<span class=\"tex2jax_ignore\"><div class=\"entities\" style=\"line-height: 2.5; direction: ltr\">\n",
       "<mark class=\"entity\" style=\"background: #ddd; padding: 0.45em 0.6em; margin: 0 0.25em; line-height: 1; border-radius: 0.35em;\">\n",
       "    Cancer \n",
       "    <span style=\"font-size: 0.8em; font-weight: bold; line-height: 1; border-radius: 0.35em; vertical-align: middle; margin-left: 0.5rem\">DIS</span>\n",
       "</mark>\n",
       "is a serious disease that affects millions of people worldwide.</div></span>"
      ],
      "text/plain": [
       "<IPython.core.display.HTML object>"
      ]
     },
     "metadata": {},
     "output_type": "display_data"
    },
    {
     "data": {
      "text/html": [
       "<span class=\"tex2jax_ignore\"><div class=\"entities\" style=\"line-height: 2.5; direction: ltr\">The \n",
       "<mark class=\"entity\" style=\"background: #ddd; padding: 0.45em 0.6em; margin: 0 0.25em; line-height: 1; border-radius: 0.35em;\">\n",
       "    African elephant \n",
       "    <span style=\"font-size: 0.8em; font-weight: bold; line-height: 1; border-radius: 0.35em; vertical-align: middle; margin-left: 0.5rem\">ANIM</span>\n",
       "</mark>\n",
       "is the largest land animal on Earth.</div></span>"
      ],
      "text/plain": [
       "<IPython.core.display.HTML object>"
      ]
     },
     "metadata": {},
     "output_type": "display_data"
    },
    {
     "data": {
      "text/html": [
       "<span class=\"tex2jax_ignore\"><div class=\"entities\" style=\"line-height: 2.5; direction: ltr\">The \n",
       "<mark class=\"entity\" style=\"background: #ddd; padding: 0.45em 0.6em; margin: 0 0.25em; line-height: 1; border-radius: 0.35em;\">\n",
       "    African elephant \n",
       "    <span style=\"font-size: 0.8em; font-weight: bold; line-height: 1; border-radius: 0.35em; vertical-align: middle; margin-left: 0.5rem\">ANIM</span>\n",
       "</mark>\n",
       "is the largest land animal on Earth.</div></span>"
      ],
      "text/plain": [
       "<IPython.core.display.HTML object>"
      ]
     },
     "metadata": {},
     "output_type": "display_data"
    },
    {
     "data": {
      "text/html": [
       "<span class=\"tex2jax_ignore\"><div class=\"entities\" style=\"line-height: 2.5; direction: ltr\">\n",
       "<mark class=\"entity\" style=\"background: #ddd; padding: 0.45em 0.6em; margin: 0 0.25em; line-height: 1; border-radius: 0.35em;\">\n",
       "    Stephen Hawking \n",
       "    <span style=\"font-size: 0.8em; font-weight: bold; line-height: 1; border-radius: 0.35em; vertical-align: middle; margin-left: 0.5rem\">PER</span>\n",
       "</mark>\n",
       "was a brilliant physicist known for his work on black holes.</div></span>"
      ],
      "text/plain": [
       "<IPython.core.display.HTML object>"
      ]
     },
     "metadata": {},
     "output_type": "display_data"
    },
    {
     "data": {
      "text/html": [
       "<span class=\"tex2jax_ignore\"><div class=\"entities\" style=\"line-height: 2.5; direction: ltr\">\n",
       "<mark class=\"entity\" style=\"background: #ddd; padding: 0.45em 0.6em; margin: 0 0.25em; line-height: 1; border-radius: 0.35em;\">\n",
       "    █ █ \n",
       "    <span style=\"font-size: 0.8em; font-weight: bold; line-height: 1; border-radius: 0.35em; vertical-align: middle; margin-left: 0.5rem\">PER</span>\n",
       "</mark>\n",
       "was a brilliant physicist known for his work on black holes.</div></span>"
      ],
      "text/plain": [
       "<IPython.core.display.HTML object>"
      ]
     },
     "metadata": {},
     "output_type": "display_data"
    },
    {
     "data": {
      "text/html": [
       "<span class=\"tex2jax_ignore\"><div class=\"entities\" style=\"line-height: 2.5; direction: ltr\">The \n",
       "<mark class=\"entity\" style=\"background: #ff9561; padding: 0.45em 0.6em; margin: 0 0.25em; line-height: 1; border-radius: 0.35em;\">\n",
       "    Vatican City \n",
       "    <span style=\"font-size: 0.8em; font-weight: bold; line-height: 1; border-radius: 0.35em; vertical-align: middle; margin-left: 0.5rem\">LOC</span>\n",
       "</mark>\n",
       "is the smallest independent state in the world, located within \n",
       "<mark class=\"entity\" style=\"background: #ff9561; padding: 0.45em 0.6em; margin: 0 0.25em; line-height: 1; border-radius: 0.35em;\">\n",
       "    Rome.\n",
       "    <span style=\"font-size: 0.8em; font-weight: bold; line-height: 1; border-radius: 0.35em; vertical-align: middle; margin-left: 0.5rem\">LOC</span>\n",
       "</mark>\n",
       "</div></span>"
      ],
      "text/plain": [
       "<IPython.core.display.HTML object>"
      ]
     },
     "metadata": {},
     "output_type": "display_data"
    },
    {
     "data": {
      "text/html": [
       "<span class=\"tex2jax_ignore\"><div class=\"entities\" style=\"line-height: 2.5; direction: ltr\">The \n",
       "<mark class=\"entity\" style=\"background: #ff9561; padding: 0.45em 0.6em; margin: 0 0.25em; line-height: 1; border-radius: 0.35em;\">\n",
       "    Vatican City \n",
       "    <span style=\"font-size: 0.8em; font-weight: bold; line-height: 1; border-radius: 0.35em; vertical-align: middle; margin-left: 0.5rem\">LOC</span>\n",
       "</mark>\n",
       "is the smallest independent state in the world, located within \n",
       "<mark class=\"entity\" style=\"background: #ff9561; padding: 0.45em 0.6em; margin: 0 0.25em; line-height: 1; border-radius: 0.35em;\">\n",
       "    Rome.\n",
       "    <span style=\"font-size: 0.8em; font-weight: bold; line-height: 1; border-radius: 0.35em; vertical-align: middle; margin-left: 0.5rem\">LOC</span>\n",
       "</mark>\n",
       "</div></span>"
      ],
      "text/plain": [
       "<IPython.core.display.HTML object>"
      ]
     },
     "metadata": {},
     "output_type": "display_data"
    },
    {
     "data": {
      "text/html": [
       "<span class=\"tex2jax_ignore\"><div class=\"entities\" style=\"line-height: 2.5; direction: ltr\">\n",
       "<mark class=\"entity\" style=\"background: #ddd; padding: 0.45em 0.6em; margin: 0 0.25em; line-height: 1; border-radius: 0.35em;\">\n",
       "    Lionel Messi, \n",
       "    <span style=\"font-size: 0.8em; font-weight: bold; line-height: 1; border-radius: 0.35em; vertical-align: middle; margin-left: 0.5rem\">PER</span>\n",
       "</mark>\n",
       "one of the greatest football players, currently plays for \n",
       "<mark class=\"entity\" style=\"background: #7aecec; padding: 0.45em 0.6em; margin: 0 0.25em; line-height: 1; border-radius: 0.35em;\">\n",
       "    Paris Saint-Germain.\n",
       "    <span style=\"font-size: 0.8em; font-weight: bold; line-height: 1; border-radius: 0.35em; vertical-align: middle; margin-left: 0.5rem\">ORG</span>\n",
       "</mark>\n",
       "</div></span>"
      ],
      "text/plain": [
       "<IPython.core.display.HTML object>"
      ]
     },
     "metadata": {},
     "output_type": "display_data"
    },
    {
     "data": {
      "text/html": [
       "<span class=\"tex2jax_ignore\"><div class=\"entities\" style=\"line-height: 2.5; direction: ltr\">\n",
       "<mark class=\"entity\" style=\"background: #ddd; padding: 0.45em 0.6em; margin: 0 0.25em; line-height: 1; border-radius: 0.35em;\">\n",
       "    █ █ \n",
       "    <span style=\"font-size: 0.8em; font-weight: bold; line-height: 1; border-radius: 0.35em; vertical-align: middle; margin-left: 0.5rem\">PER</span>\n",
       "</mark>\n",
       "one of the greatest football players, currently plays for \n",
       "<mark class=\"entity\" style=\"background: #7aecec; padding: 0.45em 0.6em; margin: 0 0.25em; line-height: 1; border-radius: 0.35em;\">\n",
       "    █ █\n",
       "    <span style=\"font-size: 0.8em; font-weight: bold; line-height: 1; border-radius: 0.35em; vertical-align: middle; margin-left: 0.5rem\">ORG</span>\n",
       "</mark>\n",
       "</div></span>"
      ],
      "text/plain": [
       "<IPython.core.display.HTML object>"
      ]
     },
     "metadata": {},
     "output_type": "display_data"
    },
    {
     "data": {
      "text/html": [
       "<span class=\"tex2jax_ignore\"><div class=\"entities\" style=\"line-height: 2.5; direction: ltr\">The \n",
       "<mark class=\"entity\" style=\"background: #ff9561; padding: 0.45em 0.6em; margin: 0 0.25em; line-height: 1; border-radius: 0.35em;\">\n",
       "    Pacific Ocean \n",
       "    <span style=\"font-size: 0.8em; font-weight: bold; line-height: 1; border-radius: 0.35em; vertical-align: middle; margin-left: 0.5rem\">LOC</span>\n",
       "</mark>\n",
       "is the largest and deepest ocean on Earth.</div></span>"
      ],
      "text/plain": [
       "<IPython.core.display.HTML object>"
      ]
     },
     "metadata": {},
     "output_type": "display_data"
    },
    {
     "data": {
      "text/html": [
       "<span class=\"tex2jax_ignore\"><div class=\"entities\" style=\"line-height: 2.5; direction: ltr\">The \n",
       "<mark class=\"entity\" style=\"background: #ff9561; padding: 0.45em 0.6em; margin: 0 0.25em; line-height: 1; border-radius: 0.35em;\">\n",
       "    Pacific Ocean \n",
       "    <span style=\"font-size: 0.8em; font-weight: bold; line-height: 1; border-radius: 0.35em; vertical-align: middle; margin-left: 0.5rem\">LOC</span>\n",
       "</mark>\n",
       "is the largest and deepest ocean on Earth.</div></span>"
      ],
      "text/plain": [
       "<IPython.core.display.HTML object>"
      ]
     },
     "metadata": {},
     "output_type": "display_data"
    }
   ],
   "source": [
    "from spacy import displacy\n",
    "\n",
    "def render_with_displacy(words, tags):\n",
    "    type_map={}\n",
    "    tagged, offset, start, label = [], 0, None, None\n",
    "    for word, tag in zip(words, tags):\n",
    "        if tag[0] in 'OB' and start is not None:    # End of current entity\n",
    "            tagged.append({\n",
    "                'start': start,\n",
    "                'end': offset,\n",
    "                'label': type_map.get(label, label)\n",
    "            })\n",
    "            start, label = None, None\n",
    "        if tag[0] == 'B':\n",
    "            start, label = offset, tag[2:]\n",
    "        elif tag[0] == 'I':\n",
    "            if start is None:    # I without B, but nevermind\n",
    "                start, label = offset, tag[2:]\n",
    "        else:\n",
    "            assert tag == 'O', 'unexpected tag {}'.format(tag)\n",
    "        offset += len(word) + 1    # +1 for space\n",
    "    if start:    # Entity spans to the end of sentence\n",
    "        tagged.append({\n",
    "                'start': start,\n",
    "                'end': offset,\n",
    "                'label': type_map.get(label, label)\n",
    "        })\n",
    "    doc = {\n",
    "        'text': ' '.join(words),\n",
    "        'ents': tagged\n",
    "    }\n",
    "    displacy.render(doc, style='ent', jupyter=True, manual=True)\n",
    "\n",
    "# Visualize example sentences\n",
    "for e, row in zip(example_sentences, df.iterrows()):\n",
    "    words = row[1]['words']\n",
    "    anonymized_words = row[1][\"anonymized_words\"]\n",
    "    ner_tags = row[1]['ner_tags']\n",
    "    \n",
    "    # If blackout_labels exist, anonymize the text\n",
    "    render_with_displacy(words, ner_tags)\n",
    "    render_with_displacy(anonymized_words, ner_tags)\n"
   ]
  }
 ],
 "metadata": {
  "kernelspec": {
   "display_name": "NLP",
   "language": "python",
   "name": "python3"
  },
  "language_info": {
   "codemirror_mode": {
    "name": "ipython",
    "version": 3
   },
   "file_extension": ".py",
   "mimetype": "text/x-python",
   "name": "python",
   "nbconvert_exporter": "python",
   "pygments_lexer": "ipython3",
   "version": "3.8.18"
  }
 },
 "nbformat": 4,
 "nbformat_minor": 5
}
